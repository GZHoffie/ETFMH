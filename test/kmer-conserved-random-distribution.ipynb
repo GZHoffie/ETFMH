{
 "cells": [
  {
   "cell_type": "code",
   "execution_count": 1,
   "metadata": {},
   "outputs": [],
   "source": [
    "import random\n",
    "import matplotlib.pyplot as plt\n",
    "import numpy as np\n",
    "import math"
   ]
  },
  {
   "cell_type": "code",
   "execution_count": 2,
   "metadata": {},
   "outputs": [],
   "source": [
    "# Parameters\n",
    "N = 10 # Number of genomes generated\n",
    "L = 2000000 # Length of genomes\n",
    "c = 10 # Average length of conserved region (Exp distributed)\n",
    "p_c = 0.995 # ANI of conserved region \n",
    "nc = 1 # Average length of non-conserved region (Exp distributed)\n",
    "p_nc = 0.95 # ANI of non-conserved region\n",
    "k = 12 # Length of kmer\n"
   ]
  },
  {
   "cell_type": "code",
   "execution_count": 3,
   "metadata": {},
   "outputs": [],
   "source": [
    "def generate_initial_genome(L, c, nc):\n",
    "    genome = []\n",
    "    regions = []\n",
    "    while len(genome) < L:\n",
    "        # Add conserved region\n",
    "        conserved_length = min(int(np.random.exponential(c)), L - len(genome))\n",
    "        conserved_region = [random.choice('ACGT') for _ in range(conserved_length)]\n",
    "        genome.extend(conserved_region)\n",
    "        regions.append(('c', conserved_length))\n",
    "        \n",
    "        # Add non-conserved region\n",
    "        non_conserved_length = min(int(np.random.exponential(nc)), L - len(genome))\n",
    "        non_conserved_region = [random.choice('ACGT') for _ in range(non_conserved_length)]\n",
    "        genome.extend(non_conserved_region)\n",
    "        regions.append(('n', non_conserved_length))\n",
    "    \n",
    "    return genome[:L], regions\n",
    "\n",
    "def mutate_genome(initial_genome, regions, p_c, p_nc):\n",
    "    chars = np.array(['A', 'C', 'G', 'T'])\n",
    "    mutated_genome = initial_genome.copy()\n",
    "    i = 0\n",
    "    \n",
    "    for region_type, region_length in regions:\n",
    "        for j in range(region_length):\n",
    "            if i + j < len(initial_genome):\n",
    "                if region_type == 'c':\n",
    "                    if np.random.rand() > p_c:\n",
    "                        mutated_genome[i + j] = random.choice('ACGT'.replace(initial_genome[i + j], ''))\n",
    "                else:\n",
    "                    if np.random.rand() > p_nc:\n",
    "                        mutated_genome[i + j] = random.choice('ACGT'.replace(initial_genome[i + j], ''))\n",
    "        \n",
    "        i += region_length\n",
    "    \n",
    "    return mutated_genome\n",
    "\n",
    "def generate_mutated_genomes(N, L, c, p_c, nc, p_nc):\n",
    "    initial_genome, regions = generate_initial_genome(L, c, nc)\n",
    "    mutated_genomes = []\n",
    "    \n",
    "    for _ in range(N):\n",
    "        mutated_genome = mutate_genome(initial_genome, regions, p_c, p_nc)\n",
    "        mutated_genomes.append(''.join(mutated_genome))\n",
    "    \n",
    "    return initial_genome, mutated_genomes, regions\n",
    "\n",
    "\n",
    "# Generate genomes\n",
    "initial_genome, mutated_genomes, regions = generate_mutated_genomes(N, L, c, p_c, nc, p_nc)\n",
    "\n",
    "# # Output results\n",
    "# print(\"Initial Genome:\")\n",
    "# print(''.join(initial_genome))\n",
    "\n",
    "# for region_type, region_length in regions:\n",
    "#     for j in range(region_length):\n",
    "#         if region_type == \"conserved\":\n",
    "#             print('.',end='')\n",
    "#         else:\n",
    "#             print('X',end='')\n",
    "# print()\n",
    "\n",
    "# print(\"\\nMutated Genomes:\")\n",
    "# for i, genome in enumerate(mutated_genomes):\n",
    "#     print(f\"{genome}\")\n"
   ]
  },
  {
   "cell_type": "code",
   "execution_count": 4,
   "metadata": {},
   "outputs": [],
   "source": [
    "kmer_dict = {}\n",
    "for s in mutated_genomes:\n",
    "    string_set = set()\n",
    "    for idx in range(len(s)-k+1):\n",
    "        string_set.add(s[idx:idx+k])\n",
    "\n",
    "    for kmer in string_set:\n",
    "        kmer_dict[kmer] = kmer_dict.get(kmer,0)+1\n"
   ]
  },
  {
   "cell_type": "code",
   "execution_count": 5,
   "metadata": {},
   "outputs": [
    {
     "data": {
      "image/png": "[encoded data removed]",
      "text/plain": [
       "<Figure size 1000x1000 with 1 Axes>"
      ]
     },
     "metadata": {},
     "output_type": "display_data"
    }
   ],
   "source": [
    "vals = list(kmer_dict.values())\n",
    "\n",
    "fig, ax = plt.subplots(figsize=(10,10))\n",
    "ax.hist(vals, bins=range(min(vals),max(vals)+2))\n",
    "plt.show()"
   ]
  },
  {
   "cell_type": "code",
   "execution_count": null,
   "metadata": {},
   "outputs": [],
   "source": []
  },
  {
   "cell_type": "code",
   "execution_count": null,
   "metadata": {},
   "outputs": [],
   "source": []
  }
 ],
 "metadata": {
  "kernelspec": {
   "display_name": "ANI-est",
   "language": "python",
   "name": "python3"
  },
  "language_info": {
   "codemirror_mode": {
    "name": "ipython",
    "version": 3
   },
   "file_extension": ".py",
   "mimetype": "text/x-python",
   "name": "python",
   "nbconvert_exporter": "python",
   "pygments_lexer": "ipython3",
   "version": "3.12.3"
  }
 },
 "nbformat": 4,
 "nbformat_minor": 2
}

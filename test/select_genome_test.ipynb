{
 "cells": [
  {
   "cell_type": "code",
   "execution_count": 1,
   "metadata": {},
   "outputs": [],
   "source": [
    "import sys\n",
    "\n",
    "# Replace this with the path to the repository\n",
    "sys.path.append(\"/home/zhenhao/ETFMH/\")"
   ]
  },
  {
   "cell_type": "code",
   "execution_count": 2,
   "metadata": {},
   "outputs": [],
   "source": [
    "from db_sketching.genome_selection import GenomeFiltering\n",
    "from db_sketching.kmer_set import KMerSet, FracMinHash\n",
    "\n",
    "\n",
    "def cond(kmer_hash):\n",
    "    hash = (976369 * kmer_hash + 1982627) % 10000\n",
    "    if hash < 100:\n",
    "        return True\n",
    "    else:\n",
    "        return False\n",
    "\n",
    "kmer_set = FracMinHash(cond, 12, True)\n",
    "gf = GenomeFiltering(kmer_set)"
   ]
  },
  {
   "cell_type": "code",
   "execution_count": 3,
   "metadata": {},
   "outputs": [
    {
     "name": "stdout",
     "output_type": "stream",
     "text": [
      "../Escherichia_data/Escherichia sp005843885/GCA_004211985.1.fna\n",
      "../Escherichia_data/Escherichia sp005843885/GCA_004745395.1.fna\n",
      "../Escherichia_data/Escherichia sp005843885/GCA_005781075.1.fna\n",
      "../Escherichia_data/Escherichia sp005843885/GCA_004212225.1.fna\n",
      "../Escherichia_data/Escherichia sp005843885/GCA_004745255.1.fna\n",
      "../Escherichia_data/Escherichia sp005843885/GCA_005781135.1.fna\n",
      "../Escherichia_data/Escherichia sp005843885/GCA_004745185.1.fna\n",
      "../Escherichia_data/Escherichia sp005843885/GCA_005781255.1.fna\n",
      "../Escherichia_data/Escherichia sp005843885/GCA_005843885.1.fna\n",
      "../Escherichia_data/Escherichia sp005843885/GCA_004211995.1.fna\n",
      "../Escherichia_data/Escherichia coli_E/GCA_023276905.1.fna\n",
      "../Escherichia_data/Escherichia coli_E/GCA_011881725.1.fna\n",
      "../Escherichia_data/Escherichia whittamii/GCA_020283705.1.fna\n",
      "../Escherichia_data/Escherichia whittamii/GCA_014836715.1.fna\n",
      "../Escherichia_data/Escherichia whittamii/GCA_002965485.1.fna\n",
      "../Escherichia_data/Escherichia whittamii/GCA_001660175.1.fna\n",
      "../Escherichia_data/Escherichia sp002965065/GCA_002965065.1.fna\n",
      "../Escherichia_data/Escherichia sp002965065/GCA_022423985.1.fna\n",
      "../Escherichia_data/Escherichia albertii/GCA_024532055.1.fna\n",
      "../Escherichia_data/Escherichia albertii/GCA_024529315.1.fna\n",
      "../Escherichia_data/Escherichia albertii/GCA_001515025.1.fna\n",
      "../Escherichia_data/Escherichia albertii/GCA_024529045.1.fna\n",
      "../Escherichia_data/Escherichia albertii/GCA_024532095.1.fna\n",
      "../Escherichia_data/Escherichia albertii/GCA_002109845.1.fna\n",
      "../Escherichia_data/Escherichia albertii/GCA_024532425.1.fna\n",
      "../Escherichia_data/Escherichia albertii/GCA_902387835.1.fna\n",
      "../Escherichia_data/Escherichia albertii/GCA_001286085.1.fna\n",
      "../Escherichia_data/Escherichia albertii/GCA_020443845.1.fna\n",
      "../Escherichia_data/Escherichia sp004211955/GCA_004323655.1.fna\n",
      "../Escherichia_data/Escherichia sp004211955/GCA_004211955.1.fna\n",
      "../Escherichia_data/Escherichia ruysiae/GCA_021725975.1.fna\n",
      "../Escherichia_data/Escherichia ruysiae/GCA_002965965.1.fna\n",
      "../Escherichia_data/Escherichia ruysiae/GCA_000208525.2.fna\n",
      "../Escherichia_data/Escherichia ruysiae/GCA_002110245.1.fna\n",
      "../Escherichia_data/Escherichia ruysiae/GCA_002965435.1.fna\n",
      "../Escherichia_data/Escherichia ruysiae/GCA_019839365.1.fna\n",
      "../Escherichia_data/Escherichia ruysiae/GCA_910579235.1.fna\n",
      "../Escherichia_data/Escherichia ruysiae/GCA_013369245.2.fna\n",
      "../Escherichia_data/Escherichia ruysiae/GCA_019839465.1.fna\n",
      "../Escherichia_data/Escherichia ruysiae/GCA_000398885.1.fna\n",
      "../Escherichia_data/Escherichia marmotae/GCA_014103665.1.fna\n",
      "../Escherichia_data/Escherichia marmotae/GCA_003358385.1.fna\n",
      "../Escherichia_data/Escherichia marmotae/GCA_013369115.2.fna\n",
      "../Escherichia_data/Escherichia marmotae/GCA_013368845.2.fna\n",
      "../Escherichia_data/Escherichia marmotae/GCA_013369065.2.fna\n",
      "../Escherichia_data/Escherichia marmotae/GCA_024722075.1.fna\n",
      "../Escherichia_data/Escherichia marmotae/GCA_003358435.1.fna\n",
      "../Escherichia_data/Escherichia marmotae/GCA_916397085.1.fna\n",
      "../Escherichia_data/Escherichia marmotae/GCA_016530545.1.fna\n",
      "../Escherichia_data/Escherichia marmotae/GCA_002965785.1.fna\n",
      "../Escherichia_data/Escherichia fergusonii/GCA_013892435.1.fna\n",
      "../Escherichia_data/Escherichia fergusonii/GCA_023277125.1.fna\n",
      "../Escherichia_data/Escherichia fergusonii/GCA_020034875.1.fna\n",
      "../Escherichia_data/Escherichia fergusonii/GCA_000968885.2.fna\n",
      "../Escherichia_data/Escherichia fergusonii/GCA_013710195.1.fna\n",
      "../Escherichia_data/Escherichia fergusonii/GCA_020035065.1.fna\n",
      "../Escherichia_data/Escherichia fergusonii/GCA_002965025.1.fna\n",
      "../Escherichia_data/Escherichia fergusonii/GCA_000190495.1.fna\n",
      "../Escherichia_data/Escherichia fergusonii/GCA_000191665.1.fna\n",
      "../Escherichia_data/Escherichia fergusonii/GCA_020002285.1.fna\n",
      "../Escherichia_data/Escherichia coli/GCA_900490355.1.fna\n",
      "../Escherichia_data/Escherichia coli/GCA_001894475.1.fna\n",
      "../Escherichia_data/Escherichia coli/GCA_021341935.1.fna\n",
      "../Escherichia_data/Escherichia coli/GCA_022977515.1.fna\n",
      "../Escherichia_data/Escherichia coli/GCA_002465635.1.fna\n",
      "../Escherichia_data/Escherichia coli/GCA_002494445.1.fna\n",
      "../Escherichia_data/Escherichia coli/GCA_006233015.1.fna\n",
      "../Escherichia_data/Escherichia coli/GCA_000752635.1.fna\n",
      "../Escherichia_data/Escherichia coli/GCA_019800445.1.fna\n",
      "../Escherichia_data/Escherichia coli/GCA_902504395.1.fna\n"
     ]
    }
   ],
   "source": [
    "from glob import glob\n",
    "\n",
    "for f in glob(\"../Escherichia_data/*/*.fna\"):\n",
    "    gf.insert_genome(f)\n",
    "    print(f)"
   ]
  },
  {
   "cell_type": "code",
   "execution_count": 8,
   "metadata": {},
   "outputs": [
    {
     "name": "stdout",
     "output_type": "stream",
     "text": [
      "0\n",
      "1\n",
      "2\n",
      "3\n",
      "4\n",
      "5\n",
      "6\n",
      "7\n",
      "8\n",
      "9\n",
      "10\n",
      "11\n",
      "12\n",
      "13\n",
      "14\n",
      "15\n",
      "16\n",
      "17\n",
      "18\n",
      "19\n",
      "20\n",
      "21\n",
      "22\n",
      "23\n",
      "24\n",
      "25\n",
      "26\n",
      "27\n",
      "28\n",
      "29\n",
      "30\n",
      "31\n",
      "32\n",
      "33\n",
      "34\n",
      "35\n",
      "36\n",
      "37\n",
      "38\n",
      "39\n",
      "40\n",
      "41\n",
      "42\n",
      "43\n",
      "44\n",
      "45\n",
      "46\n",
      "47\n",
      "48\n",
      "49\n",
      "50\n",
      "51\n",
      "52\n",
      "53\n",
      "54\n",
      "55\n",
      "56\n",
      "57\n",
      "58\n",
      "59\n",
      "60\n",
      "61\n",
      "62\n",
      "63\n",
      "64\n",
      "65\n",
      "66\n",
      "67\n",
      "68\n",
      "69\n"
     ]
    }
   ],
   "source": [
    "import numpy as np\n",
    "\n",
    "genome_list = list(gf.genome_dict.keys())\n",
    "distance_matrix = np.zeros((len(genome_list), len(genome_list)))\n",
    "for i in range(len(genome_list)):\n",
    "    print(i)\n",
    "    for j in range(i+1, len(genome_list)):\n",
    "        distance = gf.genome_dict[genome_list[i]].resemblence(gf.genome_dict[genome_list[j]])\n",
    "        distance_matrix[i][j] = distance_matrix[j][i] = distance"
   ]
  },
  {
   "cell_type": "code",
   "execution_count": 10,
   "metadata": {},
   "outputs": [
    {
     "data": {
      "text/plain": [
       "<Axes: >"
      ]
     },
     "execution_count": 10,
     "metadata": {},
     "output_type": "execute_result"
    },
    {
     "data": {
      "image/png": "[encoded data removed]",
      "text/plain": [
       "<Figure size 640x480 with 2 Axes>"
      ]
     },
     "metadata": {},
     "output_type": "display_data"
    }
   ],
   "source": [
    "import seaborn\n",
    "\n",
    "seaborn.heatmap(distance_matrix)"
   ]
  },
  {
   "cell_type": "code",
   "execution_count": 12,
   "metadata": {},
   "outputs": [
    {
     "data": {
      "text/plain": [
       "1.0"
      ]
     },
     "execution_count": 12,
     "metadata": {},
     "output_type": "execute_result"
    }
   ],
   "source": [
    "gf.genome_dict[\"genome_file_name\"].resemblence(gf.genome_dict[\"genome_file_name\"])"
   ]
  },
  {
   "cell_type": "code",
   "execution_count": null,
   "metadata": {},
   "outputs": [],
   "source": []
  }
 ],
 "metadata": {
  "kernelspec": {
   "display_name": "Python 3",
   "language": "python",
   "name": "python3"
  },
  "language_info": {
   "codemirror_mode": {
    "name": "ipython",
    "version": 3
   },
   "file_extension": ".py",
   "mimetype": "text/x-python",
   "name": "python",
   "nbconvert_exporter": "python",
   "pygments_lexer": "ipython3",
   "version": "3.10.12"
  }
 },
 "nbformat": 4,
 "nbformat_minor": 2
}

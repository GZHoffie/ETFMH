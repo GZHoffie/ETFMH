{
 "cells": [
  {
   "cell_type": "code",
   "execution_count": 1,
   "metadata": {},
   "outputs": [],
   "source": [
    "import random\n",
    "import matplotlib.pyplot as plt\n",
    "import numpy as np\n",
    "import math"
   ]
  },
  {
   "cell_type": "markdown",
   "metadata": {},
   "source": [
    "## Setup\n",
    "\n",
    "We consider a set of $N$ genomes and k-mers of length $k$.\n",
    "All $N$ genomes are of the same length $L$, and assumed to have evolved from the\n",
    "same ancestor genomes with Average Nucleotide Identity (ANI) of $\\alpha$.\n",
    "We use the Jukes-Cantor model of evolution, and assume that every base mutates\n",
    "independently and uniformly at random with probability $1 - \\alpha$\n",
    "\n",
    "Let $G_{i,j}$ be the $k$-mer in genome $i$ starting at base $j$\n",
    "\n",
    "Let $X_{i,j,m}$ be the indicator random variable that is $1$ iff the $k$-mer\n",
    "in genome $i$ starting at base $j$ appears with multiplicity $m$.\n"
   ]
  },
  {
   "cell_type": "code",
   "execution_count": 2,
   "metadata": {},
   "outputs": [],
   "source": [
    "N = 10 # number of genomes\n",
    "L = 2000000 # length of the genomes \n",
    "p = 0.998 # ANI\n",
    "k = 12 # length of the kmer"
   ]
  },
  {
   "cell_type": "code",
   "execution_count": 3,
   "metadata": {},
   "outputs": [],
   "source": [
    "def generate_string(l):\n",
    "    return ''.join(np.random.choice(['A', 'C', 'G', 'T'], l))\n",
    "\n",
    "def mutate_string(S, p):\n",
    "    chars = np.array(['A', 'C', 'G', 'T'])\n",
    "    S_array = np.array(list(S))\n",
    "    mutated_S = S_array.copy()\n",
    "    \n",
    "    mutation_mask = np.random.rand(len(S)) > p\n",
    "    for i in range(len(S)):\n",
    "        if mutation_mask[i]:\n",
    "            available_chars = chars[chars != S_array[i]]\n",
    "            mutated_S[i] = np.random.choice(available_chars)\n",
    "    \n",
    "    return ''.join(mutated_S)\n",
    "\n",
    "def generate_strings(n, l, p):\n",
    "    S = generate_string(l)\n",
    "    mutated_strings = [mutate_string(S, p) for _ in range(n)]\n",
    "    return S, mutated_strings\n",
    "\n",
    "# Generate the strings\n",
    "original_string, mutated_strings = generate_strings(N, L, p)\n",
    "\n",
    "# print(f\"Original string: {original_string}\")\n",
    "# print(\"Mutated strings:\")\n",
    "# for i, s in enumerate(mutated_strings):\n",
    "#     print(f\"{i+1}:\\t{s}\")"
   ]
  },
  {
   "cell_type": "code",
   "execution_count": 4,
   "metadata": {},
   "outputs": [],
   "source": [
    "kmer_dict = {}\n",
    "for s in mutated_strings:\n",
    "    string_set = set()\n",
    "    for idx in range(len(s)-k+1):\n",
    "        string_set.add(s[idx:idx+k])\n",
    "\n",
    "    for kmer in string_set:\n",
    "        kmer_dict[kmer] = kmer_dict.get(kmer,0)+1\n"
   ]
  },
  {
   "cell_type": "markdown",
   "metadata": {},
   "source": [
    "We make the following simplifying assumptions\n",
    "\n",
    "- $k$-mers can only appear multiple times in the same region. This assumption is violated if $k$ is small and the length of the genome is sufficiently large\n",
    "\n",
    "The probability that $G_{i,j}$ is mutated at exactly $a$ positions in the $k$-mer is \n",
    "\n",
    "$$\n",
    "\\begin{align*}\n",
    "    \\binom{k}{a} (1-\\alpha)^{a} \\alpha^{k-a}\n",
    "\\end{align*}\n",
    "$$\n",
    "\n",
    "Let us fix $j$, the base position, and $m$ the multiplicity. \n",
    "The probability that there exist exactly $m > 0$ genomes $i_1,i_2,\\cdots,i_m$ \n",
    "such that $G_{i_1,j},G_{i_2,j},\\cdots,G_{i_m,j}$ mutate in the exact same set of $a$ positions is:\n",
    "\n",
    "$$\n",
    "\\begin{align*}\n",
    "    \\binom{k}{a} \\cdot \\binom{N}{m} \\cdot \\left ( (1-\\alpha)^{a} \\alpha^{k-a} \\right )^m \\cdot \\left ( 1 - (1-\\alpha)^{a} \\alpha^{k-a} \\right )^{N-m}\n",
    "\\end{align*}\n",
    "$$"
   ]
  },
  {
   "cell_type": "code",
   "execution_count": 5,
   "metadata": {},
   "outputs": [],
   "source": [
    "def mutation_probability_of_x_positions_in_kmer(k : int, x : int, alpha : float):\n",
    "    return ((1 - alpha) ** x) * (alpha ** (k-x))\n",
    "\n",
    "def genome_mutation_multiplicity_probability(m : int, N : int, k : int, x : int, alpha : float):\n",
    "    mp = mutation_probability_of_x_positions_in_kmer(k,x,alpha)\n",
    "    return (mp ** m) * ((1 - mp) ** (N - m))\n",
    "\n",
    "def expected_kmer_multiplicity(m : int, N : int, k : int, alpha : float):\n",
    "    return sum(math.comb(k,x) * math.comb(N,m) * genome_mutation_multiplicity_probability(m,N,k,x,alpha) for x in range(0,k+1))\n"
   ]
  },
  {
   "cell_type": "code",
   "execution_count": 6,
   "metadata": {},
   "outputs": [
    {
     "name": "stdout",
     "output_type": "stream",
     "text": [
      "2470642.585198434\n"
     ]
    },
    {
     "data": {
      "image/png": "[encoded data removed]",
      "text/plain": [
       "<Figure size 640x480 with 1 Axes>"
      ]
     },
     "metadata": {},
     "output_type": "display_data"
    }
   ],
   "source": [
    "vals = list(kmer_dict.values())\n",
    "x = list(range(1,N+1))\n",
    "y=[expected_kmer_multiplicity(i,N,k,p) * L for i in range(1,N+1)]\n",
    "print(sum(y))\n",
    "\n",
    "fig, ax = plt.subplots()\n",
    "ax.plot(x,y)\n",
    "ax.hist(vals, bins=range(min(vals),max(vals)+2))\n",
    "plt.show()"
   ]
  },
  {
   "cell_type": "code",
   "execution_count": null,
   "metadata": {},
   "outputs": [],
   "source": []
  },
  {
   "cell_type": "code",
   "execution_count": null,
   "metadata": {},
   "outputs": [],
   "source": []
  }
 ],
 "metadata": {
  "kernelspec": {
   "display_name": "ANI-est",
   "language": "python",
   "name": "python3"
  },
  "language_info": {
   "codemirror_mode": {
    "name": "ipython",
    "version": 3
   },
   "file_extension": ".py",
   "mimetype": "text/x-python",
   "name": "python",
   "nbconvert_exporter": "python",
   "pygments_lexer": "ipython3",
   "version": "3.12.3"
  }
 },
 "nbformat": 4,
 "nbformat_minor": 2
}

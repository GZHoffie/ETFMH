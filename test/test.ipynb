{
 "cells": [
  {
   "cell_type": "code",
   "execution_count": 1,
   "metadata": {},
   "outputs": [],
   "source": [
    "import sys\n",
    "\n",
    "# Replace this with the path to the repository\n",
    "sys.path.append(\"/home/zhenhao/ETFMH/\")"
   ]
  },
  {
   "cell_type": "code",
   "execution_count": 3,
   "metadata": {},
   "outputs": [
    {
     "name": "stdout",
     "output_type": "stream",
     "text": [
      "k: 8,\tSet size: 654,\tcontainment: 1.0,\tANI: 1.0\n",
      "k: 9,\tSet size: 2585,\tcontainment: 0.990715667311412,\tANI: 0.9989641256949189\n",
      "k: 10,\tSet size: 9309,\tcontainment: 0.9231926093028252,\tANI: 0.9920401101674345\n",
      "k: 11,\tSet size: 23856,\tcontainment: 0.7057763246143528,\tANI: 0.9688185872077587\n",
      "k: 12,\tSet size: 39065,\tcontainment: 0.4290285421733009,\tANI: 0.9319097356017322\n",
      "k: 13,\tSet size: 47501,\tcontainment: 0.24374223700553674,\tANI: 0.8970999453200957\n",
      "k: 14,\tSet size: 50708,\tcontainment: 0.15691804054587047,\tANI: 0.8760886674479779\n",
      "k: 15,\tSet size: 51467,\tcontainment: 0.12501214370373248,\tANI: 0.8705562012848551\n",
      "k: 16,\tSet size: 51978,\tcontainment: 0.11225903266766708,\tANI: 0.8722456876200992\n",
      "k: 17,\tSet size: 52211,\tcontainment: 0.10792744823887687,\tANI: 0.877254099535764\n",
      "k: 18,\tSet size: 52107,\tcontainment: 0.10240466731917017,\tANI: 0.8810849112840364\n",
      "k: 19,\tSet size: 52052,\tcontainment: 0.09703757780680858,\tANI: 0.8844658108642368\n",
      "k: 20,\tSet size: 52080,\tcontainment: 0.09397081413210445,\tANI: 0.8884840779947095\n",
      "k: 21,\tSet size: 52228,\tcontainment: 0.09043042046411887,\tANI: 0.8918682280247784\n",
      "k: 22,\tSet size: 52238,\tcontainment: 0.0859718978521383,\tANI: 0.8944615156746217\n",
      "k: 23,\tSet size: 52213,\tcontainment: 0.08557255855821347,\tANI: 0.8986276174942909\n",
      "k: 24,\tSet size: 52707,\tcontainment: 0.08173487392566452,\tANI: 0.9009146342272322\n",
      "k: 25,\tSet size: 52486,\tcontainment: 0.08177418740235491,\tANI: 0.9047001232621427\n",
      "k: 26,\tSet size: 52286,\tcontainment: 0.08007879738362085,\tANI: 0.9074602234764715\n",
      "k: 27,\tSet size: 52297,\tcontainment: 0.07554926668833777,\tANI: 0.9087678876411271\n",
      "k: 28,\tSet size: 52040,\tcontainment: 0.07373174481168332,\tANI: 0.9110854052374164\n",
      "k: 29,\tSet size: 52604,\tcontainment: 0.07130636453501635,\tANI: 0.9129619967518929\n",
      "k: 30,\tSet size: 52345,\tcontainment: 0.06789569204317508,\tANI: 0.9142425021610682\n",
      "k: 31,\tSet size: 52856,\tcontainment: 0.06610413198123202,\tANI: 0.9160999475687757\n",
      "k: 32,\tSet size: 52865,\tcontainment: 0.06543081433840915,\tANI: 0.9183182128065904\n",
      "k: 33,\tSet size: 52490,\tcontainment: 0.062183273004381784,\tANI: 0.9192733158814415\n",
      "k: 34,\tSet size: 52660,\tcontainment: 0.05938093429548044,\tANI: 0.9203029092103103\n",
      "k: 35,\tSet size: 52267,\tcontainment: 0.06099450896359079,\tANI: 0.9231962274732888\n",
      "k: 36,\tSet size: 52810,\tcontainment: 0.058928233289149784,\tANI: 0.9243624973532238\n",
      "k: 37,\tSet size: 53183,\tcontainment: 0.057668803941109,\tANI: 0.9257887892045519\n",
      "k: 38,\tSet size: 52850,\tcontainment: 0.05506149479659413,\tANI: 0.9265405287423343\n",
      "k: 39,\tSet size: 52530,\tcontainment: 0.05265562535693889,\tANI: 0.9272920419964067\n",
      "k: 40,\tSet size: 53010,\tcontainment: 0.053405017921146956,\tANI: 0.9293719307868527\n",
      "k: 41,\tSet size: 52699,\tcontainment: 0.05155695553995332,\tANI: 0.9302343499773053\n",
      "k: 42,\tSet size: 52740,\tcontainment: 0.04927948426241942,\tANI: 0.9308356408370903\n",
      "k: 43,\tSet size: 52999,\tcontainment: 0.04949149983961962,\tANI: 0.932481548314829\n",
      "k: 44,\tSet size: 52693,\tcontainment: 0.04712200861594519,\tANI: 0.9329234192175451\n",
      "k: 45,\tSet size: 52696,\tcontainment: 0.04484211325337786,\tANI: 0.9333348196943816\n",
      "k: 46,\tSet size: 52354,\tcontainment: 0.04555525843297551,\tANI: 0.9350563713665555\n",
      "k: 47,\tSet size: 52968,\tcontainment: 0.044838392991995164,\tANI: 0.9360772769118189\n",
      "k: 48,\tSet size: 52508,\tcontainment: 0.04187933267311648,\tANI: 0.9360340806310063\n",
      "k: 49,\tSet size: 52691,\tcontainment: 0.040595168055265606,\tANI: 0.9367021503351726\n",
      "k: 50,\tSet size: 52333,\tcontainment: 0.03947795845833413,\tANI: 0.9374046288577732\n",
      "k: 51,\tSet size: 52029,\tcontainment: 0.04041976589978666,\tANI: 0.9390274970797866\n"
     ]
    }
   ],
   "source": [
    "from db_sketching.kmer_set import KMerSet, FracMinHash, ErrorTolerantFracMinHash, TruncatedKMerSet\n",
    "from Bio import SeqIO\n",
    "\n",
    "# Path to the datasets we are testing\n",
    "data_1 = [\"../data/562.fna\"]\n",
    "data_2 = [\"../data/564.fna\"]\n",
    "\n",
    "# The boolean function used in FracMinHash\n",
    "def cond(kmer_hash):\n",
    "    hash = (976369 * kmer_hash + 1982627) % 10000\n",
    "    if hash < 100:\n",
    "        return True\n",
    "    else:\n",
    "        return False\n",
    "\n",
    "def all(kmer_hash):\n",
    "    return True\n",
    "\n",
    "containment = []\n",
    "ANI = []\n",
    "set_size = []\n",
    "\n",
    "for k in range(8, 52):    \n",
    "    frac1 = TruncatedKMerSet(cond, k)\n",
    "    frac2 = TruncatedKMerSet(cond, k)\n",
    "\n",
    "    # insert dataset\n",
    "    frac1.insert_file_list(data_1)\n",
    "    frac2.insert_file_list(data_2)\n",
    "\n",
    "    # Calculate containment index and estimate ANI\n",
    "    containment.append(frac1.containment(frac2))\n",
    "    ANI.append(frac1.ANI_estimation(frac2))\n",
    "\n",
    "    # Record the size of k-mer set as well\n",
    "    set_size.append(len(frac1.set))\n",
    "\n",
    "    print(f\"k: {k},\\tSet size: {set_size[-1]},\\tcontainment: {containment[-1]},\\tANI: {ANI[-1]}\")"
   ]
  },
  {
   "cell_type": "code",
   "execution_count": 1,
   "metadata": {},
   "outputs": [],
   "source": [
    "from pymummer import coords_file, alignment, nucmer\n",
    "\n",
    "reference_file = \"../data/562.fna\"\n",
    "query_file = \"../data/564.fna\"\n",
    "results_file = \"./result.txt\"\n",
    "\n",
    "runner = nucmer.Runner(reference_file, query_file, results_file) \n",
    "runner.run()\n",
    "file_reader = coords_file.reader(results_file)\n",
    "alignments = [coord for coord in file_reader if not coord.is_self_hit()] #Remove self hits"
   ]
  },
  {
   "cell_type": "code",
   "execution_count": 8,
   "metadata": {},
   "outputs": [
    {
     "data": {
      "text/plain": [
       "12644"
      ]
     },
     "execution_count": 8,
     "metadata": {},
     "output_type": "execute_result"
    }
   ],
   "source": [
    "alignments[0].qry_start"
   ]
  },
  {
   "cell_type": "code",
   "execution_count": 9,
   "metadata": {},
   "outputs": [
    {
     "data": {
      "text/plain": [
       "90"
      ]
     },
     "execution_count": 9,
     "metadata": {},
     "output_type": "execute_result"
    }
   ],
   "source": [
    "alignments[0].qry_end"
   ]
  },
  {
   "cell_type": "code",
   "execution_count": 11,
   "metadata": {},
   "outputs": [
    {
     "data": {
      "text/plain": [
       "95.52"
      ]
     },
     "execution_count": 11,
     "metadata": {},
     "output_type": "execute_result"
    }
   ],
   "source": [
    "alignments[0]."
   ]
  },
  {
   "cell_type": "code",
   "execution_count": null,
   "metadata": {},
   "outputs": [],
   "source": []
  }
 ],
 "metadata": {
  "kernelspec": {
   "display_name": "Python 3",
   "language": "python",
   "name": "python3"
  },
  "language_info": {
   "codemirror_mode": {
    "name": "ipython",
    "version": 3
   },
   "file_extension": ".py",
   "mimetype": "text/x-python",
   "name": "python",
   "nbconvert_exporter": "python",
   "pygments_lexer": "ipython3",
   "version": "3.10.12"
  }
 },
 "nbformat": 4,
 "nbformat_minor": 2
}

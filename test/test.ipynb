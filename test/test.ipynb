{
 "cells": [
  {
   "cell_type": "code",
   "execution_count": 1,
   "metadata": {},
   "outputs": [],
   "source": [
    "import sys\n",
    "\n",
    "# Replace this with the path to the repository\n",
    "sys.path.append(\"/home/zhenhao/ETFMH/\")"
   ]
  },
  {
   "cell_type": "code",
   "execution_count": 2,
   "metadata": {},
   "outputs": [
    {
     "name": "stdout",
     "output_type": "stream",
     "text": [
      "k: 8,\tSet size: 65432,\tcontainment: 0.9987773566450666,\tANI: 0.9988383208980511\n",
      "k: 9,\tSet size: 258006,\tcontainment: 0.9900506189778532,\tANI: 0.9912625795837754\n",
      "k: 10,\tSet size: 924900,\tcontainment: 0.9240642231592605,\tANI: 0.9333504827392378\n",
      "k: 11,\tSet size: 2368398,\tcontainment: 0.7053527320999258,\tANI: 0.7633175570358518\n",
      "k: 12,\tSet size: 3884139,\tcontainment: 0.4262048809272789,\tANI: 0.6042452922456306\n",
      "k: 13,\tSet size: 4729041,\tcontainment: 0.24016497213705695,\tANI: 0.563497525059837\n",
      "k: 14,\tSet size: 5052239,\tcontainment: 0.15746028641954588,\tANI: 0.6556318885310971\n",
      "k: 15,\tSet size: 5157861,\tcontainment: 0.12590994600281008,\tANI: 0.799625162377138\n",
      "k: 16,\tSet size: 5191479,\tcontainment: 0.11349501750849807,\tANI: 0.9013934460188151\n",
      "k: 17,\tSet size: 5203229,\tcontainment: 0.10692494987247342,\tANI: 0.9421064662287943\n",
      "k: 18,\tSet size: 5208318,\tcontainment: 0.10215927675691078,\tANI: 0.9554246604632017\n",
      "k: 19,\tSet size: 5211161,\tcontainment: 0.09840033727608877,\tANI: 0.9632000763585814\n",
      "k: 20,\tSet size: 5213263,\tcontainment: 0.09488702181340171,\tANI: 0.9642907308223253\n",
      "k: 21,\tSet size: 5215032,\tcontainment: 0.0915064375443909,\tANI: 0.9643672677965507\n",
      "k: 22,\tSet size: 5216523,\tcontainment: 0.08853962687406919,\tANI: 0.9675729123796808\n",
      "k: 23,\tSet size: 5217865,\tcontainment: 0.08564748225567353,\tANI: 0.9673317972046556\n",
      "k: 24,\tSet size: 5219099,\tcontainment: 0.08281448579534513,\tANI: 0.9669195098291471\n",
      "k: 25,\tSet size: 5220204,\tcontainment: 0.08029015724289702,\tANI: 0.9695175717814715\n",
      "k: 26,\tSet size: 5221242,\tcontainment: 0.07782343741201805,\tANI: 0.969276942448297\n",
      "k: 27,\tSet size: 5222233,\tcontainment: 0.07539992949376254,\tANI: 0.9688586246534655\n",
      "k: 28,\tSet size: 5223138,\tcontainment: 0.0732044606135239,\tANI: 0.97088230892138\n",
      "k: 29,\tSet size: 5224006,\tcontainment: 0.07104834871935446,\tANI: 0.9705468965915429\n",
      "k: 30,\tSet size: 5224836,\tcontainment: 0.0689284792862398,\tANI: 0.9701634152481746\n",
      "k: 31,\tSet size: 5225611,\tcontainment: 0.06700364799446419,\tANI: 0.9720729054609193\n",
      "k: 32,\tSet size: 5226354,\tcontainment: 0.06511231347895684,\tANI: 0.9717705898793672\n",
      "k: 33,\tSet size: 5227051,\tcontainment: 0.06324828282716201,\tANI: 0.9713701601751218\n",
      "k: 34,\tSet size: 5227698,\tcontainment: 0.06154066283094395,\tANI: 0.9729995766000372\n",
      "k: 35,\tSet size: 5228312,\tcontainment: 0.0598602378740978,\tANI: 0.9726924894290969\n",
      "k: 36,\tSet size: 5228900,\tcontainment: 0.0582080361070206,\tANI: 0.9723975995644533\n",
      "k: 37,\tSet size: 5229458,\tcontainment: 0.05669325578291288,\tANI: 0.9739750167449625\n",
      "k: 38,\tSet size: 5229998,\tcontainment: 0.05520116833696686,\tANI: 0.9736801426100451\n",
      "k: 39,\tSet size: 5230514,\tcontainment: 0.05373143060127551,\tANI: 0.973373806240819\n",
      "k: 40,\tSet size: 5230979,\tcontainment: 0.05236916454835701,\tANI: 0.9746458660251492\n",
      "k: 41,\tSet size: 5231414,\tcontainment: 0.051029033450612014,\tANI: 0.9744090243192327\n",
      "k: 42,\tSet size: 5231834,\tcontainment: 0.04971124848380128,\tANI: 0.9741714222801467\n",
      "k: 43,\tSet size: 5232243,\tcontainment: 0.048500423241045955,\tANI: 0.9756385643213437\n",
      "k: 44,\tSet size: 5232642,\tcontainment: 0.04730860624518169,\tANI: 0.9754223091735794\n",
      "k: 45,\tSet size: 5233025,\tcontainment: 0.046130870767863714,\tANI: 0.9750970600494534\n",
      "k: 46,\tSet size: 5233396,\tcontainment: 0.04503366456503578,\tANI: 0.9762071507895707\n",
      "k: 47,\tSet size: 5233758,\tcontainment: 0.04395121058329407,\tANI: 0.9759552433967522\n",
      "k: 48,\tSet size: 5234105,\tcontainment: 0.04288144773557275,\tANI: 0.9756520164932201\n",
      "k: 49,\tSet size: 5234441,\tcontainment: 0.04189119716890495,\tANI: 0.9768990373857223\n",
      "k: 50,\tSet size: 5234769,\tcontainment: 0.040913553205499616,\tANI: 0.9766540957702248\n",
      "k: 51,\tSet size: 5235088,\tcontainment: 0.03994947171852699,\tANI: 0.9764275536263803\n"
     ]
    }
   ],
   "source": [
    "from db_sketching.kmer_set import KMerSet, FracMinHash, ErrorTolerantFracMinHash, TruncatedKMerSet\n",
    "from Bio import SeqIO\n",
    "\n",
    "# Path to the datasets we are testing\n",
    "data_1 = [\"../data/562.fna\"]\n",
    "data_2 = [\"../data/564.fna\"]\n",
    "\n",
    "# The boolean function used in FracMinHash\n",
    "def cond(kmer_hash):\n",
    "    hash = (976369 * kmer_hash + 1982627) % 10000\n",
    "    if hash < 100:\n",
    "        return True\n",
    "    else:\n",
    "        return False\n",
    "\n",
    "def all(kmer_hash):\n",
    "    return True\n",
    "\n",
    "containment = []\n",
    "ANI = []\n",
    "set_size = []\n",
    "\n",
    "for k in range(8, 52):    \n",
    "    frac1 = TruncatedKMerSet(all, k)\n",
    "    frac2 = TruncatedKMerSet(all, k)\n",
    "\n",
    "    # insert dataset\n",
    "    frac1.insert_file_list(data_1)\n",
    "    frac2.insert_file_list(data_2)\n",
    "\n",
    "    # Calculate containment index and estimate ANI\n",
    "    containment.append(frac1.containment(frac2))\n",
    "    ANI.append(frac1.conditional_probability(frac2))\n",
    "\n",
    "    #print(frac1.conditional_probability(frac2))\n",
    "\n",
    "    # Record the size of k-mer set as well\n",
    "    set_size.append(len(frac1.set))\n",
    "\n",
    "    print(f\"k: {k},\\tSet size: {set_size[-1]},\\tcontainment: {containment[-1]},\\tANI: {ANI[-1]}\")"
   ]
  },
  {
   "cell_type": "code",
   "execution_count": 11,
   "metadata": {},
   "outputs": [
    {
     "data": {
      "text/plain": [
       "Text(0.5, 0, 'k')"
      ]
     },
     "execution_count": 11,
     "metadata": {},
     "output_type": "execute_result"
    },
    {
     "data": {
      "image/png": "[encoded data removed]",
      "text/plain": [
       "<Figure size 640x480 with 1 Axes>"
      ]
     },
     "metadata": {},
     "output_type": "display_data"
    }
   ],
   "source": [
    "import matplotlib.pyplot as plt\n",
    "\n",
    "plt.plot(range(15, 52), ANI[7:])\n",
    "plt.xlabel(\"k\")"
   ]
  },
  {
   "cell_type": "code",
   "execution_count": 1,
   "metadata": {},
   "outputs": [],
   "source": [
    "from pymummer import coords_file, alignment, nucmer\n",
    "\n",
    "reference_file = \"../data/562.fna\"\n",
    "query_file = \"../data/564.fna\"\n",
    "results_file = \"./result.txt\"\n",
    "\n",
    "runner = nucmer.Runner(reference_file, query_file, results_file) \n",
    "runner.run()\n",
    "file_reader = coords_file.reader(results_file)\n",
    "alignments = [coord for coord in file_reader if not coord.is_self_hit()] #Remove self hits"
   ]
  },
  {
   "cell_type": "code",
   "execution_count": 8,
   "metadata": {},
   "outputs": [
    {
     "data": {
      "text/plain": [
       "12644"
      ]
     },
     "execution_count": 8,
     "metadata": {},
     "output_type": "execute_result"
    }
   ],
   "source": [
    "alignments[0].qry_start"
   ]
  },
  {
   "cell_type": "code",
   "execution_count": 9,
   "metadata": {},
   "outputs": [
    {
     "data": {
      "text/plain": [
       "90"
      ]
     },
     "execution_count": 9,
     "metadata": {},
     "output_type": "execute_result"
    }
   ],
   "source": [
    "alignments[0].qry_end"
   ]
  },
  {
   "cell_type": "code",
   "execution_count": 11,
   "metadata": {},
   "outputs": [
    {
     "data": {
      "text/plain": [
       "95.52"
      ]
     },
     "execution_count": 11,
     "metadata": {},
     "output_type": "execute_result"
    }
   ],
   "source": [
    "alignments[0]."
   ]
  },
  {
   "cell_type": "code",
   "execution_count": null,
   "metadata": {},
   "outputs": [],
   "source": []
  }
 ],
 "metadata": {
  "kernelspec": {
   "display_name": "Python 3",
   "language": "python",
   "name": "python3"
  },
  "language_info": {
   "codemirror_mode": {
    "name": "ipython",
    "version": 3
   },
   "file_extension": ".py",
   "mimetype": "text/x-python",
   "name": "python",
   "nbconvert_exporter": "python",
   "pygments_lexer": "ipython3",
   "version": "3.10.12"
  }
 },
 "nbformat": 4,
 "nbformat_minor": 2
}
